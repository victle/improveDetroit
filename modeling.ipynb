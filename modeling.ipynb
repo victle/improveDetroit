{
 "cells": [
  {
   "cell_type": "markdown",
   "id": "8e5f60dc",
   "metadata": {},
   "source": [
    "# Goals\n",
    "\n",
    "Modeling the time it takes to close issues, and eventually a deeper analysis the relationship between time it takes to close, and the types of issues that exist."
   ]
  },
  {
   "cell_type": "code",
   "execution_count": 1,
   "id": "88694f4e",
   "metadata": {
    "ExecuteTime": {
     "end_time": "2021-05-05T02:44:19.636170Z",
     "start_time": "2021-05-05T02:44:18.903642Z"
    }
   },
   "outputs": [],
   "source": [
    "# Import useful packages\n",
    "import numpy as np\n",
    "import pandas as pd \n",
    "import matplotlib.pyplot as plt"
   ]
  },
  {
   "cell_type": "code",
   "execution_count": 2,
   "id": "50923f10",
   "metadata": {
    "ExecuteTime": {
     "end_time": "2021-05-05T02:44:24.491105Z",
     "start_time": "2021-05-05T02:44:20.422943Z"
    }
   },
   "outputs": [
    {
     "name": "stderr",
     "output_type": "stream",
     "text": [
      "C:\\Users\\Victor Le\\Anaconda3\\lib\\site-packages\\IPython\\core\\interactiveshell.py:3166: DtypeWarning: Columns (17) have mixed types.Specify dtype option on import or set low_memory=False.\n",
      "  interactivity=interactivity, compiler=compiler, result=result)\n"
     ]
    },
    {
     "data": {
      "text/html": [
       "<div>\n",
       "<style scoped>\n",
       "    .dataframe tbody tr th:only-of-type {\n",
       "        vertical-align: middle;\n",
       "    }\n",
       "\n",
       "    .dataframe tbody tr th {\n",
       "        vertical-align: top;\n",
       "    }\n",
       "\n",
       "    .dataframe thead th {\n",
       "        text-align: right;\n",
       "    }\n",
       "</style>\n",
       "<table border=\"1\" class=\"dataframe\">\n",
       "  <thead>\n",
       "    <tr style=\"text-align: right;\">\n",
       "      <th></th>\n",
       "      <th>X</th>\n",
       "      <th>Y</th>\n",
       "      <th>id</th>\n",
       "      <th>status</th>\n",
       "      <th>request_type_title</th>\n",
       "      <th>description</th>\n",
       "      <th>web_url</th>\n",
       "      <th>report_method</th>\n",
       "      <th>priority_code</th>\n",
       "      <th>created_at</th>\n",
       "      <th>...</th>\n",
       "      <th>closed_at</th>\n",
       "      <th>reopened_at</th>\n",
       "      <th>updated_at</th>\n",
       "      <th>days_to_close</th>\n",
       "      <th>canonical_issue_id</th>\n",
       "      <th>address</th>\n",
       "      <th>neighborhood</th>\n",
       "      <th>council_district</th>\n",
       "      <th>oid</th>\n",
       "      <th>geom</th>\n",
       "    </tr>\n",
       "  </thead>\n",
       "  <tbody>\n",
       "    <tr>\n",
       "      <th>0</th>\n",
       "      <td>-82.922541</td>\n",
       "      <td>42.399903</td>\n",
       "      <td>9630294</td>\n",
       "      <td>Acknowledged</td>\n",
       "      <td>Investigate Blocked Basin Street</td>\n",
       "      <td>storm water backflow into my basement</td>\n",
       "      <td>https://seeclickfix.com/issues/9630294</td>\n",
       "      <td>direct</td>\n",
       "      <td>2</td>\n",
       "      <td>2021/04/01 06:05:38+00</td>\n",
       "      <td>...</td>\n",
       "      <td>1970/01/01 00:00:00+00</td>\n",
       "      <td>1970/01/01 00:00:00+00</td>\n",
       "      <td>2021/04/01 06:05:45+00</td>\n",
       "      <td>NaN</td>\n",
       "      <td>NaN</td>\n",
       "      <td>3981 Guilford St Detroit, MI 48224, USA</td>\n",
       "      <td>NaN</td>\n",
       "      <td>NaN</td>\n",
       "      <td>1</td>\n",
       "      <td>NaN</td>\n",
       "    </tr>\n",
       "    <tr>\n",
       "      <th>1</th>\n",
       "      <td>-83.232881</td>\n",
       "      <td>42.333398</td>\n",
       "      <td>9629814</td>\n",
       "      <td>Acknowledged</td>\n",
       "      <td>Investigate Blocked Basin Street</td>\n",
       "      <td>Sewer Water has been pouring into my basement ...</td>\n",
       "      <td>https://seeclickfix.com/issues/9629814</td>\n",
       "      <td>direct</td>\n",
       "      <td>2</td>\n",
       "      <td>2021/04/01 04:50:04+00</td>\n",
       "      <td>...</td>\n",
       "      <td>1970/01/01 00:00:00+00</td>\n",
       "      <td>1970/01/01 00:00:00+00</td>\n",
       "      <td>2021/04/01 04:50:28+00</td>\n",
       "      <td>NaN</td>\n",
       "      <td>NaN</td>\n",
       "      <td>6073 Auburn St Detroit MI 48228, United States</td>\n",
       "      <td>NaN</td>\n",
       "      <td>NaN</td>\n",
       "      <td>2</td>\n",
       "      <td>NaN</td>\n",
       "    </tr>\n",
       "    <tr>\n",
       "      <th>2</th>\n",
       "      <td>-83.107571</td>\n",
       "      <td>42.436438</td>\n",
       "      <td>9629750</td>\n",
       "      <td>Open</td>\n",
       "      <td>Traffic Complaints</td>\n",
       "      <td>Person lighting fireworks and loud explosives ...</td>\n",
       "      <td>https://seeclickfix.com/issues/9629750</td>\n",
       "      <td>direct</td>\n",
       "      <td>2</td>\n",
       "      <td>2021/04/01 04:20:51+00</td>\n",
       "      <td>...</td>\n",
       "      <td>1970/01/01 00:00:00+00</td>\n",
       "      <td>1970/01/01 00:00:00+00</td>\n",
       "      <td>2021/04/01 04:20:51+00</td>\n",
       "      <td>NaN</td>\n",
       "      <td>NaN</td>\n",
       "      <td>400 Annin St Detroit MI 48203, United States</td>\n",
       "      <td>NaN</td>\n",
       "      <td>NaN</td>\n",
       "      <td>3</td>\n",
       "      <td>NaN</td>\n",
       "    </tr>\n",
       "    <tr>\n",
       "      <th>3</th>\n",
       "      <td>NaN</td>\n",
       "      <td>NaN</td>\n",
       "      <td>9629710</td>\n",
       "      <td>Open</td>\n",
       "      <td>Abandoned Vehicle</td>\n",
       "      <td>Redacted</td>\n",
       "      <td>https://seeclickfix.com/issues/9629710</td>\n",
       "      <td>direct</td>\n",
       "      <td>2</td>\n",
       "      <td>2021/04/01 04:00:45+00</td>\n",
       "      <td>...</td>\n",
       "      <td>1970/01/01 00:00:00+00</td>\n",
       "      <td>1970/01/01 00:00:00+00</td>\n",
       "      <td>2021/04/01 04:00:47+00</td>\n",
       "      <td>NaN</td>\n",
       "      <td>NaN</td>\n",
       "      <td>Redacted</td>\n",
       "      <td>NaN</td>\n",
       "      <td>NaN</td>\n",
       "      <td>4</td>\n",
       "      <td>NaN</td>\n",
       "    </tr>\n",
       "    <tr>\n",
       "      <th>4</th>\n",
       "      <td>-83.223464</td>\n",
       "      <td>42.346134</td>\n",
       "      <td>9629705</td>\n",
       "      <td>Open</td>\n",
       "      <td>Reboard House Request</td>\n",
       "      <td>This home is burnt down.  Dumping is starting ...</td>\n",
       "      <td>https://seeclickfix.com/issues/9629705</td>\n",
       "      <td>direct</td>\n",
       "      <td>2</td>\n",
       "      <td>2021/04/01 03:58:55+00</td>\n",
       "      <td>...</td>\n",
       "      <td>1970/01/01 00:00:00+00</td>\n",
       "      <td>1970/01/01 00:00:00+00</td>\n",
       "      <td>2021/04/01 03:59:01+00</td>\n",
       "      <td>NaN</td>\n",
       "      <td>NaN</td>\n",
       "      <td>7395 Brace St Detroit, MI 48228, USA</td>\n",
       "      <td>NaN</td>\n",
       "      <td>NaN</td>\n",
       "      <td>5</td>\n",
       "      <td>NaN</td>\n",
       "    </tr>\n",
       "  </tbody>\n",
       "</table>\n",
       "<p>5 rows × 21 columns</p>\n",
       "</div>"
      ],
      "text/plain": [
       "           X          Y       id        status  \\\n",
       "0 -82.922541  42.399903  9630294  Acknowledged   \n",
       "1 -83.232881  42.333398  9629814  Acknowledged   \n",
       "2 -83.107571  42.436438  9629750          Open   \n",
       "3        NaN        NaN  9629710          Open   \n",
       "4 -83.223464  42.346134  9629705          Open   \n",
       "\n",
       "                 request_type_title  \\\n",
       "0  Investigate Blocked Basin Street   \n",
       "1  Investigate Blocked Basin Street   \n",
       "2                Traffic Complaints   \n",
       "3                 Abandoned Vehicle   \n",
       "4             Reboard House Request   \n",
       "\n",
       "                                         description  \\\n",
       "0              storm water backflow into my basement   \n",
       "1  Sewer Water has been pouring into my basement ...   \n",
       "2  Person lighting fireworks and loud explosives ...   \n",
       "3                                           Redacted   \n",
       "4  This home is burnt down.  Dumping is starting ...   \n",
       "\n",
       "                                  web_url report_method  priority_code  \\\n",
       "0  https://seeclickfix.com/issues/9630294        direct              2   \n",
       "1  https://seeclickfix.com/issues/9629814        direct              2   \n",
       "2  https://seeclickfix.com/issues/9629750        direct              2   \n",
       "3  https://seeclickfix.com/issues/9629710        direct              2   \n",
       "4  https://seeclickfix.com/issues/9629705        direct              2   \n",
       "\n",
       "               created_at  ...               closed_at  \\\n",
       "0  2021/04/01 06:05:38+00  ...  1970/01/01 00:00:00+00   \n",
       "1  2021/04/01 04:50:04+00  ...  1970/01/01 00:00:00+00   \n",
       "2  2021/04/01 04:20:51+00  ...  1970/01/01 00:00:00+00   \n",
       "3  2021/04/01 04:00:45+00  ...  1970/01/01 00:00:00+00   \n",
       "4  2021/04/01 03:58:55+00  ...  1970/01/01 00:00:00+00   \n",
       "\n",
       "              reopened_at              updated_at days_to_close  \\\n",
       "0  1970/01/01 00:00:00+00  2021/04/01 06:05:45+00           NaN   \n",
       "1  1970/01/01 00:00:00+00  2021/04/01 04:50:28+00           NaN   \n",
       "2  1970/01/01 00:00:00+00  2021/04/01 04:20:51+00           NaN   \n",
       "3  1970/01/01 00:00:00+00  2021/04/01 04:00:47+00           NaN   \n",
       "4  1970/01/01 00:00:00+00  2021/04/01 03:59:01+00           NaN   \n",
       "\n",
       "   canonical_issue_id                                         address  \\\n",
       "0                 NaN         3981 Guilford St Detroit, MI 48224, USA   \n",
       "1                 NaN  6073 Auburn St Detroit MI 48228, United States   \n",
       "2                 NaN    400 Annin St Detroit MI 48203, United States   \n",
       "3                 NaN                                        Redacted   \n",
       "4                 NaN            7395 Brace St Detroit, MI 48228, USA   \n",
       "\n",
       "  neighborhood council_district  oid  geom  \n",
       "0          NaN              NaN    1   NaN  \n",
       "1          NaN              NaN    2   NaN  \n",
       "2          NaN              NaN    3   NaN  \n",
       "3          NaN              NaN    4   NaN  \n",
       "4          NaN              NaN    5   NaN  \n",
       "\n",
       "[5 rows x 21 columns]"
      ]
     },
     "execution_count": 2,
     "metadata": {},
     "output_type": "execute_result"
    }
   ],
   "source": [
    "data = pd.read_csv('./Improve_Detroit_Issues.csv', header = 0)\n",
    "data.head()"
   ]
  },
  {
   "cell_type": "markdown",
   "id": "0ee2b845",
   "metadata": {},
   "source": [
    "# Exploration of time it takes to close issues"
   ]
  },
  {
   "cell_type": "markdown",
   "id": "dffd8e1d",
   "metadata": {},
   "source": [
    "## Let's look at how long it takes to close an issue by the month"
   ]
  },
  {
   "cell_type": "code",
   "execution_count": 3,
   "id": "8b759a71",
   "metadata": {
    "ExecuteTime": {
     "end_time": "2021-05-05T02:46:08.898222Z",
     "start_time": "2021-05-05T02:46:08.269814Z"
    }
   },
   "outputs": [],
   "source": [
    "# There's already a column documenting the time it took to close the issue. However there are a lot of nulls values.\n",
    "month = pd.to_datetime(data['created_at']) # convert to a datetime object\n",
    "month = month.apply(lambda x: x.month) # apply and grab the integer representing the month. \n",
    "\n",
    "monthClose = pd.concat([month, data['days_to_close']], axis = 1)\n",
    "monthClose.rename(columns = {'created_at':'month'}, inplace=True)\n"
   ]
  },
  {
   "cell_type": "markdown",
   "id": "e37f6766",
   "metadata": {},
   "source": [
    "### Plotting linear fit"
   ]
  },
  {
   "cell_type": "code",
   "execution_count": 69,
   "id": "5d5e6245",
   "metadata": {
    "ExecuteTime": {
     "end_time": "2021-04-15T18:13:03.177165Z",
     "start_time": "2021-04-15T18:13:03.010967Z"
    },
    "scrolled": false
   },
   "outputs": [
    {
     "data": {
      "image/png": "[encoded data removed]",
      "text/plain": [
       "<Figure size 864x648 with 1 Axes>"
      ]
     },
     "metadata": {
      "needs_background": "light"
     },
     "output_type": "display_data"
    }
   ],
   "source": [
    "from sklearn.linear_model import LinearRegression\n",
    "\n",
    "x = np.arange(1,13).reshape(-1,1)\n",
    "y = monthClose.groupby('month').mean()\n",
    "\n",
    "model = LinearRegression()\n",
    "model.fit(x,y)\n",
    "y_pred = model.coef_*x + model.intercept_\n",
    "\n",
    "plt.figure(figsize = (12,9))\n",
    "plt.scatter(x, y)\n",
    "plt.plot(x, y_pred)\n",
    "plt.ylabel('Days to Close')\n",
    "plt.xlabel('Month')\n",
    "plt.title('Time it takes to close issues by month. R-squared = {}'.format(model.score(x,y)))\n",
    "plt.show()"
   ]
  },
  {
   "cell_type": "markdown",
   "id": "860d8558",
   "metadata": {},
   "source": [
    "Now that's interesting! There's obviously a quadratic relationship between the month, and the amount of days it takes to close the issue. A linear model is clearly not the right way to model this data."
   ]
  },
  {
   "cell_type": "markdown",
   "id": "fa84646d",
   "metadata": {},
   "source": [
    "### Plotting quadratic fit"
   ]
  },
  {
   "cell_type": "code",
   "execution_count": 68,
   "id": "4dbe844c",
   "metadata": {
    "ExecuteTime": {
     "end_time": "2021-04-15T18:12:51.490435Z",
     "start_time": "2021-04-15T18:12:51.331943Z"
    },
    "scrolled": false
   },
   "outputs": [
    {
     "data": {
      "image/png": "[encoded data removed]",
      "text/plain": [
       "<Figure size 864x648 with 1 Axes>"
      ]
     },
     "metadata": {
      "needs_background": "light"
     },
     "output_type": "display_data"
    }
   ],
   "source": [
    "from sklearn.preprocessing import PolynomialFeatures\n",
    "\n",
    "x = np.arange(1,13).reshape(-1,1)\n",
    "x2 = x ** 2\n",
    "x_quad = np.concatenate((x, x2), axis = 1)\n",
    "x_quad.reshape(-1, 2)\n",
    "y = monthClose.groupby('month').mean()\n",
    "\n",
    "model = LinearRegression()\n",
    "model.fit(x_quad,y)\n",
    "y_pred = model.predict(x_quad)\n",
    "\n",
    "plt.figure(figsize = (12,9))\n",
    "plt.scatter(x, y)\n",
    "plt.plot(x, y_pred)\n",
    "plt.ylabel('Days to Close')\n",
    "plt.xlabel('Month')\n",
    "plt.title('Time it takes to close issues by month. R-squared = {}'.format(model.score(x_quad,y)))\n",
    "plt.show()"
   ]
  },
  {
   "cell_type": "markdown",
   "id": "327f7560",
   "metadata": {},
   "source": [
    "Much better, and we're getting a pretty decent R-squared term as well. Evidently, there's a concave down relationship between month and time it takes to close issues. This seems counterintuitive, as it feels like holiday months (later in the Fall and early Winter) would be when it takes issues longest. However, it seems like the summer months take the absolute longest, with June take even more than a month to close. \n",
    "\n",
    "Yet, this does not tell the full story, as the amount of time it takes to close may very well depend on the types of issues that show up during the year. The next step is to figure out what kinds of issues appear during which months."
   ]
  },
  {
   "cell_type": "markdown",
   "id": "68cc365b",
   "metadata": {},
   "source": [
    "# Distribution of Issues by Month"
   ]
  },
  {
   "cell_type": "code",
   "execution_count": 132,
   "id": "446a3346",
   "metadata": {
    "ExecuteTime": {
     "end_time": "2021-05-05T03:33:54.798340Z",
     "start_time": "2021-05-05T03:33:54.694244Z"
    },
    "scrolled": false
   },
   "outputs": [
    {
     "data": {
      "text/html": [
       "<div>\n",
       "<style scoped>\n",
       "    .dataframe tbody tr th:only-of-type {\n",
       "        vertical-align: middle;\n",
       "    }\n",
       "\n",
       "    .dataframe tbody tr th {\n",
       "        vertical-align: top;\n",
       "    }\n",
       "\n",
       "    .dataframe thead th {\n",
       "        text-align: right;\n",
       "    }\n",
       "</style>\n",
       "<table border=\"1\" class=\"dataframe\">\n",
       "  <thead>\n",
       "    <tr style=\"text-align: right;\">\n",
       "      <th>request_type_title</th>\n",
       "      <th>Abandoned Vehicle</th>\n",
       "      <th>Curbside Solid Waste Issue</th>\n",
       "      <th>Illegal Dump Sites</th>\n",
       "      <th>Potholes</th>\n",
       "      <th>Residential Snow Removal Issue</th>\n",
       "    </tr>\n",
       "    <tr>\n",
       "      <th>created_at</th>\n",
       "      <th></th>\n",
       "      <th></th>\n",
       "      <th></th>\n",
       "      <th></th>\n",
       "      <th></th>\n",
       "    </tr>\n",
       "  </thead>\n",
       "  <tbody>\n",
       "    <tr>\n",
       "      <th>1</th>\n",
       "      <td>3206.0</td>\n",
       "      <td>3111.0</td>\n",
       "      <td>3375.0</td>\n",
       "      <td>NaN</td>\n",
       "      <td>NaN</td>\n",
       "    </tr>\n",
       "    <tr>\n",
       "      <th>2</th>\n",
       "      <td>3227.0</td>\n",
       "      <td>3030.0</td>\n",
       "      <td>NaN</td>\n",
       "      <td>NaN</td>\n",
       "      <td>2895.0</td>\n",
       "    </tr>\n",
       "    <tr>\n",
       "      <th>3</th>\n",
       "      <td>3950.0</td>\n",
       "      <td>6539.0</td>\n",
       "      <td>5829.0</td>\n",
       "      <td>NaN</td>\n",
       "      <td>NaN</td>\n",
       "    </tr>\n",
       "    <tr>\n",
       "      <th>4</th>\n",
       "      <td>NaN</td>\n",
       "      <td>4174.0</td>\n",
       "      <td>6186.0</td>\n",
       "      <td>3683.0</td>\n",
       "      <td>NaN</td>\n",
       "    </tr>\n",
       "    <tr>\n",
       "      <th>5</th>\n",
       "      <td>3613.0</td>\n",
       "      <td>4351.0</td>\n",
       "      <td>6774.0</td>\n",
       "      <td>NaN</td>\n",
       "      <td>NaN</td>\n",
       "    </tr>\n",
       "    <tr>\n",
       "      <th>6</th>\n",
       "      <td>3862.0</td>\n",
       "      <td>4650.0</td>\n",
       "      <td>7161.0</td>\n",
       "      <td>NaN</td>\n",
       "      <td>NaN</td>\n",
       "    </tr>\n",
       "    <tr>\n",
       "      <th>7</th>\n",
       "      <td>4221.0</td>\n",
       "      <td>4687.0</td>\n",
       "      <td>8113.0</td>\n",
       "      <td>NaN</td>\n",
       "      <td>NaN</td>\n",
       "    </tr>\n",
       "    <tr>\n",
       "      <th>8</th>\n",
       "      <td>4685.0</td>\n",
       "      <td>4457.0</td>\n",
       "      <td>7358.0</td>\n",
       "      <td>NaN</td>\n",
       "      <td>NaN</td>\n",
       "    </tr>\n",
       "    <tr>\n",
       "      <th>9</th>\n",
       "      <td>3897.0</td>\n",
       "      <td>4100.0</td>\n",
       "      <td>6336.0</td>\n",
       "      <td>NaN</td>\n",
       "      <td>NaN</td>\n",
       "    </tr>\n",
       "    <tr>\n",
       "      <th>10</th>\n",
       "      <td>3857.0</td>\n",
       "      <td>6303.0</td>\n",
       "      <td>6509.0</td>\n",
       "      <td>NaN</td>\n",
       "      <td>NaN</td>\n",
       "    </tr>\n",
       "    <tr>\n",
       "      <th>11</th>\n",
       "      <td>3315.0</td>\n",
       "      <td>4325.0</td>\n",
       "      <td>3822.0</td>\n",
       "      <td>NaN</td>\n",
       "      <td>NaN</td>\n",
       "    </tr>\n",
       "    <tr>\n",
       "      <th>12</th>\n",
       "      <td>2923.0</td>\n",
       "      <td>4139.0</td>\n",
       "      <td>3892.0</td>\n",
       "      <td>NaN</td>\n",
       "      <td>NaN</td>\n",
       "    </tr>\n",
       "  </tbody>\n",
       "</table>\n",
       "</div>"
      ],
      "text/plain": [
       "request_type_title  Abandoned Vehicle  Curbside Solid Waste Issue  \\\n",
       "created_at                                                          \n",
       "1                              3206.0                      3111.0   \n",
       "2                              3227.0                      3030.0   \n",
       "3                              3950.0                      6539.0   \n",
       "4                                 NaN                      4174.0   \n",
       "5                              3613.0                      4351.0   \n",
       "6                              3862.0                      4650.0   \n",
       "7                              4221.0                      4687.0   \n",
       "8                              4685.0                      4457.0   \n",
       "9                              3897.0                      4100.0   \n",
       "10                             3857.0                      6303.0   \n",
       "11                             3315.0                      4325.0   \n",
       "12                             2923.0                      4139.0   \n",
       "\n",
       "request_type_title  Illegal Dump Sites  Potholes  \\\n",
       "created_at                                         \n",
       "1                               3375.0       NaN   \n",
       "2                                  NaN       NaN   \n",
       "3                               5829.0       NaN   \n",
       "4                               6186.0    3683.0   \n",
       "5                               6774.0       NaN   \n",
       "6                               7161.0       NaN   \n",
       "7                               8113.0       NaN   \n",
       "8                               7358.0       NaN   \n",
       "9                               6336.0       NaN   \n",
       "10                              6509.0       NaN   \n",
       "11                              3822.0       NaN   \n",
       "12                              3892.0       NaN   \n",
       "\n",
       "request_type_title  Residential Snow Removal Issue  \n",
       "created_at                                          \n",
       "1                                              NaN  \n",
       "2                                           2895.0  \n",
       "3                                              NaN  \n",
       "4                                              NaN  \n",
       "5                                              NaN  \n",
       "6                                              NaN  \n",
       "7                                              NaN  \n",
       "8                                              NaN  \n",
       "9                                              NaN  \n",
       "10                                             NaN  \n",
       "11                                             NaN  \n",
       "12                                             NaN  "
      ]
     },
     "execution_count": 132,
     "metadata": {},
     "output_type": "execute_result"
    }
   ],
   "source": [
    "issueMonth = pd.concat([data['request_type_title'], month], axis = 1)\n",
    "issueMonth_df = issueMonth.groupby(['created_at', 'request_type_title']).size()\n",
    "\n",
    "# need to clear issues that involve DPW \n",
    "issueTypes = list(issueMonth_df.loc[1].index)\n",
    "DPW_issues = [x for x in issueTypes if 'DPW' in x ]\n",
    "issueMonth_df.drop(index = DPW_issues, level = 1, inplace = True)\n",
    "issueMonth_df.groupby(['created_at'], group_keys = False).nlargest(3).unstack()"
   ]
  },
  {
   "cell_type": "markdown",
   "id": "beeb7bce",
   "metadata": {},
   "source": [
    "Looking at the top 3 issues per month (that's not issued by the public works department), it seems like \"Curbside Solid Waste\", \"Abandoned Vehicle\", and \"Illegal Dump Sites\" are the most common throughout the year. Let's visualize how these change over the year. "
   ]
  },
  {
   "cell_type": "code",
   "execution_count": 154,
   "id": "d2b558f8",
   "metadata": {
    "ExecuteTime": {
     "end_time": "2021-05-05T03:40:00.615571Z",
     "start_time": "2021-05-05T03:40:00.363343Z"
    }
   },
   "outputs": [
    {
     "data": {
      "image/png": "[encoded data removed]",
      "text/plain": [
       "<Figure size 864x648 with 1 Axes>"
      ]
     },
     "metadata": {
      "needs_background": "light"
     },
     "output_type": "display_data"
    }
   ],
   "source": [
    "issueMonth_df = issueMonth.groupby(['created_at', 'request_type_title']).size()\n",
    "issueMonth_df = issueMonth_df.unstack()\n",
    "\n",
    "x = issueMonth_df.index\n",
    "y1 = issueMonth_df['Abandoned Vehicle']\n",
    "y2 = issueMonth_df['Illegal Dump Sites']\n",
    "y3 = issueMonth_df['Curbside Solid Waste Issue']\n",
    "figure = plt.figure(figsize = (12,9))\n",
    "plt.plot(x, y1)\n",
    "plt.plot(x, y2)\n",
    "plt.plot(x, y3)\n",
    "plt.legend(['Abandoned Vehicle', 'Illegal Dump Sites', 'Curbside Solid Waste Issue'])\n",
    "plt.xlabel('Month')\n",
    "plt.ylabel('Number of Reports')\n",
    "plt.title('Most Reported Issues By Month')\n",
    "plt.show()"
   ]
  },
  {
   "cell_type": "markdown",
   "id": "2ae284e9",
   "metadata": {},
   "source": [
    "Now that's a little interesting! Month to month, it seems like vehicles are abandoned quite consistently. Meanwhile, there is a very clear trend in the number of illegal dump sites, peaking in the middle of the year before dying down at the end of the year. This trend is probably what drives the concave curve we saw in the previous graph. This brings us to further question why illegal dump sites increased like this. In contrast, curbside solid waste issues are practically bimodal, with the most issues being reported during March and October. "
   ]
  }
 ],
 "metadata": {
  "kernelspec": {
   "display_name": "Python 3",
   "language": "python",
   "name": "python3"
  },
  "language_info": {
   "codemirror_mode": {
    "name": "ipython",
    "version": 3
   },
   "file_extension": ".py",
   "mimetype": "text/x-python",
   "name": "python",
   "nbconvert_exporter": "python",
   "pygments_lexer": "ipython3",
   "version": "3.7.6"
  },
  "toc": {
   "base_numbering": 1,
   "nav_menu": {},
   "number_sections": true,
   "sideBar": true,
   "skip_h1_title": false,
   "title_cell": "Table of Contents",
   "title_sidebar": "Contents",
   "toc_cell": false,
   "toc_position": {},
   "toc_section_display": true,
   "toc_window_display": false
  }
 },
 "nbformat": 4,
 "nbformat_minor": 5
}
